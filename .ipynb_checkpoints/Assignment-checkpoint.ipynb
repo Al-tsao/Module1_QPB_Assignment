{
 "cells": [
  {
   "cell_type": "markdown",
   "id": "e4fe89d0",
   "metadata": {},
   "source": [
    "**Import modules**"
   ]
  },
  {
   "cell_type": "code",
   "execution_count": 1,
   "id": "7df5850f",
   "metadata": {},
   "outputs": [],
   "source": [
    "import numpy as np\n",
    "import pandas as pd\n",
    "import matplotlib.pyplot as plt\n",
    "import seaborn as sns"
   ]
  },
  {
   "cell_type": "markdown",
   "id": "0fe6ed53",
   "metadata": {},
   "source": [
    "**Import data**"
   ]
  },
  {
   "cell_type": "code",
   "execution_count": 2,
   "id": "55a02d83",
   "metadata": {},
   "outputs": [
    {
     "data": {
      "text/html": [
       "<div>\n",
       "<style scoped>\n",
       "    .dataframe tbody tr th:only-of-type {\n",
       "        vertical-align: middle;\n",
       "    }\n",
       "\n",
       "    .dataframe tbody tr th {\n",
       "        vertical-align: top;\n",
       "    }\n",
       "\n",
       "    .dataframe thead th {\n",
       "        text-align: right;\n",
       "    }\n",
       "</style>\n",
       "<table border=\"1\" class=\"dataframe\">\n",
       "  <thead>\n",
       "    <tr style=\"text-align: right;\">\n",
       "      <th></th>\n",
       "      <th>Make</th>\n",
       "      <th>Name</th>\n",
       "      <th>Transmission</th>\n",
       "      <th>Engine Type</th>\n",
       "      <th>Engine Capacity(CC)</th>\n",
       "      <th>Mileage(kms)</th>\n",
       "      <th>City</th>\n",
       "      <th>Year</th>\n",
       "      <th>Price</th>\n",
       "    </tr>\n",
       "  </thead>\n",
       "  <tbody>\n",
       "    <tr>\n",
       "      <th>0</th>\n",
       "      <td>Honda</td>\n",
       "      <td>BR-V   i-VTEC S</td>\n",
       "      <td>Automatic</td>\n",
       "      <td>Petrol</td>\n",
       "      <td>1500.0</td>\n",
       "      <td>41371</td>\n",
       "      <td>Karachi</td>\n",
       "      <td>2017</td>\n",
       "      <td>3150000</td>\n",
       "    </tr>\n",
       "    <tr>\n",
       "      <th>1</th>\n",
       "      <td>Toyota</td>\n",
       "      <td>Corolla   Altis Automatic 1.6</td>\n",
       "      <td>Automatic</td>\n",
       "      <td>Petrol</td>\n",
       "      <td>1600.0</td>\n",
       "      <td>2460</td>\n",
       "      <td>Karachi</td>\n",
       "      <td>2021</td>\n",
       "      <td>3575000</td>\n",
       "    </tr>\n",
       "    <tr>\n",
       "      <th>2</th>\n",
       "      <td>Toyota</td>\n",
       "      <td>Vitz   F Limited II 1.0</td>\n",
       "      <td>Automatic</td>\n",
       "      <td>Petrol</td>\n",
       "      <td>1000.0</td>\n",
       "      <td>67000</td>\n",
       "      <td>Karachi</td>\n",
       "      <td>2014</td>\n",
       "      <td>1955000</td>\n",
       "    </tr>\n",
       "    <tr>\n",
       "      <th>3</th>\n",
       "      <td>Daihatsu</td>\n",
       "      <td>Move   Custom X Limited</td>\n",
       "      <td>Automatic</td>\n",
       "      <td>Petrol</td>\n",
       "      <td>660.0</td>\n",
       "      <td>64000</td>\n",
       "      <td>Lahore</td>\n",
       "      <td>2013</td>\n",
       "      <td>1450000</td>\n",
       "    </tr>\n",
       "    <tr>\n",
       "      <th>4</th>\n",
       "      <td>Toyota</td>\n",
       "      <td>Prado   TX L Package 2.7</td>\n",
       "      <td>Automatic</td>\n",
       "      <td>Petrol</td>\n",
       "      <td>2700.0</td>\n",
       "      <td>64000</td>\n",
       "      <td>Lahore</td>\n",
       "      <td>2016</td>\n",
       "      <td>19000000</td>\n",
       "    </tr>\n",
       "    <tr>\n",
       "      <th>...</th>\n",
       "      <td>...</td>\n",
       "      <td>...</td>\n",
       "      <td>...</td>\n",
       "      <td>...</td>\n",
       "      <td>...</td>\n",
       "      <td>...</td>\n",
       "      <td>...</td>\n",
       "      <td>...</td>\n",
       "      <td>...</td>\n",
       "    </tr>\n",
       "    <tr>\n",
       "      <th>76685</th>\n",
       "      <td>Suzuki</td>\n",
       "      <td>Bolan   VX Euro II</td>\n",
       "      <td>Manual</td>\n",
       "      <td>Petrol</td>\n",
       "      <td>800.0</td>\n",
       "      <td>59500</td>\n",
       "      <td>Lahore</td>\n",
       "      <td>2016</td>\n",
       "      <td>890000</td>\n",
       "    </tr>\n",
       "    <tr>\n",
       "      <th>76686</th>\n",
       "      <td>Toyota</td>\n",
       "      <td>Prius   G LED Edition 1.8</td>\n",
       "      <td>Automatic</td>\n",
       "      <td>Petrol</td>\n",
       "      <td>1800.0</td>\n",
       "      <td>199000</td>\n",
       "      <td>Rawalpindi</td>\n",
       "      <td>2010</td>\n",
       "      <td>2700000</td>\n",
       "    </tr>\n",
       "    <tr>\n",
       "      <th>76687</th>\n",
       "      <td>KIA</td>\n",
       "      <td>Sportage   AWD</td>\n",
       "      <td>Automatic</td>\n",
       "      <td>Petrol</td>\n",
       "      <td>2000.0</td>\n",
       "      <td>180</td>\n",
       "      <td>Lahore</td>\n",
       "      <td>2020</td>\n",
       "      <td>5900000</td>\n",
       "    </tr>\n",
       "    <tr>\n",
       "      <th>76688</th>\n",
       "      <td>Suzuki</td>\n",
       "      <td>Bolan</td>\n",
       "      <td>Manual</td>\n",
       "      <td>Petrol</td>\n",
       "      <td>800.0</td>\n",
       "      <td>16300</td>\n",
       "      <td>Rawalpindi</td>\n",
       "      <td>2019</td>\n",
       "      <td>1170000</td>\n",
       "    </tr>\n",
       "    <tr>\n",
       "      <th>76689</th>\n",
       "      <td>Suzuki</td>\n",
       "      <td>Mehran   VX Euro II</td>\n",
       "      <td>Manual</td>\n",
       "      <td>Petrol</td>\n",
       "      <td>800.0</td>\n",
       "      <td>69000</td>\n",
       "      <td>Bahawalpur</td>\n",
       "      <td>2014</td>\n",
       "      <td>690000</td>\n",
       "    </tr>\n",
       "  </tbody>\n",
       "</table>\n",
       "<p>76690 rows × 9 columns</p>\n",
       "</div>"
      ],
      "text/plain": [
       "           Make                            Name Transmission Engine Type  \\\n",
       "0         Honda                BR-V   i-VTEC S     Automatic      Petrol   \n",
       "1        Toyota  Corolla   Altis Automatic 1.6     Automatic      Petrol   \n",
       "2        Toyota        Vitz   F Limited II 1.0     Automatic      Petrol   \n",
       "3      Daihatsu        Move   Custom X Limited     Automatic      Petrol   \n",
       "4        Toyota       Prado   TX L Package 2.7     Automatic      Petrol   \n",
       "...         ...                             ...          ...         ...   \n",
       "76685    Suzuki             Bolan   VX Euro II        Manual      Petrol   \n",
       "76686    Toyota      Prius   G LED Edition 1.8     Automatic      Petrol   \n",
       "76687       KIA                 Sportage   AWD     Automatic      Petrol   \n",
       "76688    Suzuki                       Bolan           Manual      Petrol   \n",
       "76689    Suzuki            Mehran   VX Euro II        Manual      Petrol   \n",
       "\n",
       "       Engine Capacity(CC)  Mileage(kms)        City  Year     Price  \n",
       "0                   1500.0         41371     Karachi  2017   3150000  \n",
       "1                   1600.0          2460     Karachi  2021   3575000  \n",
       "2                   1000.0         67000     Karachi  2014   1955000  \n",
       "3                    660.0         64000      Lahore  2013   1450000  \n",
       "4                   2700.0         64000      Lahore  2016  19000000  \n",
       "...                    ...           ...         ...   ...       ...  \n",
       "76685                800.0         59500      Lahore  2016    890000  \n",
       "76686               1800.0        199000  Rawalpindi  2010   2700000  \n",
       "76687               2000.0           180      Lahore  2020   5900000  \n",
       "76688                800.0         16300  Rawalpindi  2019   1170000  \n",
       "76689                800.0         69000  Bahawalpur  2014    690000  \n",
       "\n",
       "[76690 rows x 9 columns]"
      ]
     },
     "execution_count": 2,
     "metadata": {},
     "output_type": "execute_result"
    }
   ],
   "source": [
    "df = pd.read_csv(\"PakWheelsDataSet.csv\")\n",
    "df"
   ]
  },
  {
   "cell_type": "markdown",
   "id": "9c8bff1f",
   "metadata": {},
   "source": [
    "**Data overview**"
   ]
  },
  {
   "cell_type": "code",
   "execution_count": null,
   "id": "012a4fe4",
   "metadata": {},
   "outputs": [],
   "source": [
    "df.info()"
   ]
  },
  {
   "cell_type": "code",
   "execution_count": null,
   "id": "a65286a5",
   "metadata": {},
   "outputs": [],
   "source": [
    "groupByYear = df.groupby(['Year'])['Year'].count()\n",
    "groupByYear = groupByYear.to_frame()\n",
    "groupByYear.columns = ['Count']\n",
    "groupByYear = groupByYear.reset_index()\n",
    "groupByYear\n",
    "\n",
    "sns.set()\n",
    "g = sns.barplot(x = 'Year', y = 'Count', data = groupByYear, color='darkblue')\n",
    "for index, label in enumerate(g.get_xticklabels()):\n",
    "    year = int(label.get_text())\n",
    "    if year % 20 == 0:\n",
    "        label.set_visible(True)\n",
    "    else:\n",
    "        label.set_visible(False)\n",
    "plt.show()"
   ]
  },
  {
   "cell_type": "markdown",
   "id": "e158dd20",
   "metadata": {},
   "source": [
    "**Engine Capacity(CC)**"
   ]
  },
  {
   "cell_type": "code",
   "execution_count": null,
   "id": "9194be36",
   "metadata": {},
   "outputs": [],
   "source": [
    "sns.set()\n",
    "g = sns.histplot(x = 'Engine Capacity(CC)', data = df, bins = 25)\n",
    "g.ticklabel_format(style='plain')\n",
    "plt.show()"
   ]
  },
  {
   "cell_type": "markdown",
   "id": "961bafcf",
   "metadata": {},
   "source": [
    "**Mileage(kms)**"
   ]
  },
  {
   "cell_type": "code",
   "execution_count": null,
   "id": "3125576f",
   "metadata": {},
   "outputs": [],
   "source": [
    "mask = df['Mileage(kms)'] <= 200000\n",
    "lowKms = df[mask]\n",
    "lowKms\n",
    "\n",
    "sns.set()\n",
    "g = sns.histplot(x = 'Mileage(kms)', data = lowKms, bins = 200)\n",
    "g.ticklabel_format(style='plain')\n",
    "plt.show()"
   ]
  },
  {
   "cell_type": "markdown",
   "id": "297d5e4d",
   "metadata": {},
   "source": [
    "**Year**"
   ]
  },
  {
   "cell_type": "code",
   "execution_count": null,
   "id": "6d35a079",
   "metadata": {},
   "outputs": [],
   "source": [
    "groupByYear = df.groupby(['Year'])['Year'].count()\n",
    "groupByYear = groupByYear.to_frame()\n",
    "groupByYear.columns = ['Count']\n",
    "groupByYear = groupByYear.reset_index()\n",
    "groupByYear.sort_values(\"Count\", ascending = False, inplace=True)\n",
    "groupByYear"
   ]
  },
  {
   "cell_type": "code",
   "execution_count": null,
   "id": "14a5128d",
   "metadata": {},
   "outputs": [],
   "source": [
    "sns.set()\n",
    "g = sns.histplot(x = 'Year', data = df, bins = 68)\n",
    "g.ticklabel_format(style='plain')\n",
    "plt.show()"
   ]
  },
  {
   "cell_type": "markdown",
   "id": "fe9c89a1",
   "metadata": {},
   "source": [
    "**City**"
   ]
  },
  {
   "cell_type": "code",
   "execution_count": null,
   "id": "312cedda",
   "metadata": {},
   "outputs": [],
   "source": [
    "groupByCity = df.groupby(['City'])['City'].count()\n",
    "groupByCity = groupByCity.to_frame()\n",
    "groupByCity.columns = ['Count']\n",
    "groupByCity = groupByCity.reset_index()\n",
    "groupByCity.sort_values(\"Count\", ascending = False, inplace=True)\n",
    "groupByCity"
   ]
  },
  {
   "cell_type": "markdown",
   "id": "a71d8a02",
   "metadata": {},
   "source": [
    "**Make**"
   ]
  },
  {
   "cell_type": "code",
   "execution_count": null,
   "id": "d17c942e",
   "metadata": {},
   "outputs": [],
   "source": [
    "groupByMake = df.groupby(['Make'])['Make'].count()\n",
    "groupByMake = groupByMake.to_frame()\n",
    "groupByMake.columns = ['Count']\n",
    "groupByMake = groupByMake.reset_index()\n",
    "groupByMake.sort_values(\"Count\", ascending = False, inplace=True)\n",
    "groupByMake"
   ]
  },
  {
   "cell_type": "markdown",
   "id": "445fb5e2",
   "metadata": {},
   "source": [
    "**Price**"
   ]
  },
  {
   "cell_type": "code",
   "execution_count": null,
   "id": "66f9c3e3",
   "metadata": {},
   "outputs": [],
   "source": [
    "df.sort_values('Price')\n",
    "\n",
    "sns.set()\n",
    "g = sns.histplot(x = 'Price', data = df, bins = 1000)\n",
    "g.ticklabel_format(style='plain')\n",
    "plt.show()"
   ]
  },
  {
   "cell_type": "code",
   "execution_count": null,
   "id": "79156113",
   "metadata": {},
   "outputs": [],
   "source": [
    "mask = df['Price'] <= 10000000\n",
    "lowPrice = df[mask]\n",
    "lowPrice\n",
    "\n",
    "sns.set()\n",
    "g = sns.histplot(x = 'Price', data = lowPrice, bins = 200)\n",
    "g.ticklabel_format(style='plain')\n",
    "plt.show()"
   ]
  },
  {
   "cell_type": "markdown",
   "id": "92725842",
   "metadata": {},
   "source": [
    "**Price&Make**"
   ]
  },
  {
   "cell_type": "code",
   "execution_count": null,
   "id": "4f4fdc4a",
   "metadata": {},
   "outputs": [],
   "source": [
    "pAndM = df.loc[:,['Price', 'Make']]\n",
    "pAndM['Count'] = [1]*len(pAndM['Price'])\n",
    "pAndM\n",
    "\n",
    "sns.set()\n",
    "plt.figure(figsize=(10, 30))\n",
    "g = sns.scatterplot(x = 'Price', y = 'Make', data = pAndM,sizes = (15, 200))\n",
    "# g.ticklabel_format(style='plain')\n",
    "plt.show()"
   ]
  }
 ],
 "metadata": {
  "kernelspec": {
   "display_name": "Python 3 (ipykernel)",
   "language": "python",
   "name": "python3"
  },
  "language_info": {
   "codemirror_mode": {
    "name": "ipython",
    "version": 3
   },
   "file_extension": ".py",
   "mimetype": "text/x-python",
   "name": "python",
   "nbconvert_exporter": "python",
   "pygments_lexer": "ipython3",
   "version": "3.9.7"
  }
 },
 "nbformat": 4,
 "nbformat_minor": 5
}
